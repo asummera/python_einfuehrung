{
  "nbformat": 4,
  "nbformat_minor": 0,
  "metadata": {
    "colab": {
      "name": "Python_intro.ipynb",
      "provenance": [],
      "collapsed_sections": [],
      "toc_visible": true,
      "authorship_tag": "ABX9TyMG+/o+waRL+5GVZajOyQCO",
      "include_colab_link": true
    },
    "kernelspec": {
      "name": "python3",
      "display_name": "Python 3"
    },
    "language_info": {
      "name": "python"
    }
  },
  "cells": [
    {
      "cell_type": "markdown",
      "metadata": {
        "id": "view-in-github",
        "colab_type": "text"
      },
      "source": [
        "<a href=\"https://colab.research.google.com/github/asummera/python_einfuehrung/blob/master/Python_intro.ipynb\" target=\"_parent\"><img src=\"https://colab.research.google.com/assets/colab-badge.svg\" alt=\"Open In Colab\"/></a>"
      ]
    },
    {
      "cell_type": "markdown",
      "metadata": {
        "id": "AgK9R9XFEYHL"
      },
      "source": [
        "# Teil 1"
      ]
    },
    {
      "cell_type": "markdown",
      "metadata": {
        "id": "kMuDE_piyWQm"
      },
      "source": [
        "# Teil 2"
      ]
    },
    {
      "cell_type": "markdown",
      "metadata": {
        "id": "J7_knrRTetM1"
      },
      "source": [
        ""
      ]
    },
    {
      "cell_type": "markdown",
      "metadata": {
        "id": "37a7RjeGzuTR"
      },
      "source": [
        "## Verschiedene Python Datenstrukturen\n"
      ]
    },
    {
      "cell_type": "markdown",
      "metadata": {
        "id": "_4keVz6vGUYX"
      },
      "source": [
        "### Liste\n",
        "\n",
        "Eine Liste in Python besteht aus einer geordneten Menge von Elementen. Sie unterschiedliche Datentypen enthalten. "
      ]
    },
    {
      "cell_type": "code",
      "metadata": {
        "colab": {
          "base_uri": "https://localhost:8080/"
        },
        "id": "cs3dg83Czw5M",
        "outputId": "4a1634f7-f2d2-448e-d50a-44b592c90a29"
      },
      "source": [
        "# Erstellen einer Liste\n",
        "l = ['a', 1, 18.2]\n",
        "\n",
        "print(l[1]) # Gibt das Element an Stelle (beginnt mit 0) \n",
        "\n",
        "l[1] = 5 # Überscheibt den Wert an stelle 1\n",
        "print(l[1]) \n",
        "\n",
        "l.append('Hallo') # Hängt am Ende der Liste ein Element an\n",
        "print(l)\n",
        "l.pop() # Nimmt das letzte Element von der Liste weg\n",
        "print(l)\n",
        "\n"
      ],
      "execution_count": null,
      "outputs": [
        {
          "output_type": "stream",
          "text": [
            "1\n",
            "5\n",
            "['a', 5, 18.2, 'Hallo']\n",
            "['a', 5, 18.2]\n"
          ],
          "name": "stdout"
        }
      ]
    },
    {
      "cell_type": "markdown",
      "metadata": {
        "id": "ZeCVxo9PbMRW"
      },
      "source": [
        "### Tupel\n",
        "\n",
        "Tupel sind ähnlich zu Listen, mit dem Wesentlichen Unterschied, dass man sie nicht verändern kann. Sobald ein Tupel erstellt wurde, können die Elemente nicht überschrieben werden oder Elemente können nicht hinzugefügt / entfernt werden.\n"
      ]
    },
    {
      "cell_type": "code",
      "metadata": {
        "colab": {
          "base_uri": "https://localhost:8080/"
        },
        "id": "iwoMW-DjbCrO",
        "outputId": "5ca6e4b9-10f4-4df7-afc8-60f1d4b64948"
      },
      "source": [
        "# Erstellen eines Tupels\n",
        "t = ('a', 1, 18.2)\n",
        "\n",
        "print(t[0])\n",
        "print(t)"
      ],
      "execution_count": null,
      "outputs": [
        {
          "output_type": "stream",
          "text": [
            "a\n",
            "('a', 1, 18.2)\n"
          ],
          "name": "stdout"
        }
      ]
    },
    {
      "cell_type": "markdown",
      "metadata": {
        "id": "_Va0O_kpbOEt"
      },
      "source": [
        "### Dictionary\n",
        "\n",
        "Dictionaries bestehen immer aus einer ungeordneten Listen von 'key'- 'value' Pärchen. Der 'key' kann dabei unterschiedliche Werte annehmen, muss aber  "
      ]
    },
    {
      "cell_type": "code",
      "metadata": {
        "id": "I8DZUDnrbEEv",
        "colab": {
          "base_uri": "https://localhost:8080/"
        },
        "outputId": "39a3222b-e277-46b3-e934-7ffc0fc8c2f4"
      },
      "source": [
        "# Erstellen eines Dictionary\n",
        "d = {\"a\": 1, \"b\": 2, \"c\": 3}\n",
        "\n",
        "print(d['a'])\n",
        "\n",
        "print(d.items())\n",
        "print(d.keys()) # nur die keys zurückgeben\n",
        "print(d.values())"
      ],
      "execution_count": null,
      "outputs": [
        {
          "output_type": "stream",
          "text": [
            "1\n",
            "dict_items([('a', 1), ('b', 2), ('c', 3)])\n",
            "dict_keys(['a', 'b', 'c'])\n",
            "dict_values([1, 2, 3])\n"
          ],
          "name": "stdout"
        }
      ]
    },
    {
      "cell_type": "markdown",
      "metadata": {
        "id": "B-JmnU3iz71s"
      },
      "source": [
        "### OrderedDict Collection"
      ]
    },
    {
      "cell_type": "code",
      "metadata": {
        "colab": {
          "base_uri": "https://localhost:8080/"
        },
        "id": "ZAcrbNpKz_4q",
        "outputId": "86f12978-fd72-488f-e26b-753ac96ef09c"
      },
      "source": [
        "from collections import OrderedDict\n",
        "\n",
        "od = OrderedDict()\n",
        "od[\"apples\"] = 5\n",
        "od[\"pears\"] = 2\n",
        "od[\"oranges\"] = 9\n",
        "\n",
        "# TODO\n",
        "print(od[\"pears\"])\n",
        "od[\"bananas\"] = 12\n",
        "print(od)\n"
      ],
      "execution_count": null,
      "outputs": [
        {
          "output_type": "stream",
          "text": [
            "2\n",
            "OrderedDict([('apples', 5), ('pears', 2), ('oranges', 9), ('bananas', 12)])\n"
          ],
          "name": "stdout"
        }
      ]
    },
    {
      "cell_type": "markdown",
      "metadata": {
        "id": "7Clf6IOb0KsJ"
      },
      "source": [
        "## Loops"
      ]
    },
    {
      "cell_type": "markdown",
      "metadata": {
        "id": "0Mvp56t2DtE6"
      },
      "source": [
        "### For-Loop"
      ]
    },
    {
      "cell_type": "code",
      "metadata": {
        "colab": {
          "base_uri": "https://localhost:8080/"
        },
        "id": "gi9Hy6Qy0oEr",
        "outputId": "a97d184e-b396-43ae-f7c4-985a387501d7"
      },
      "source": [
        "# Initialisieren einer Liste mit Strings\n",
        "names = [\"chris\", \"iftach\", \"jay\"]\n",
        "\n",
        "for name in names:\n",
        "  print(name)"
      ],
      "execution_count": null,
      "outputs": [
        {
          "output_type": "stream",
          "text": [
            "chris\n",
            "iftach\n",
            "jay\n"
          ],
          "name": "stdout"
        }
      ]
    },
    {
      "cell_type": "markdown",
      "metadata": {
        "id": "U7k_phG3Dmao"
      },
      "source": [
        "### While-Loop"
      ]
    },
    {
      "cell_type": "code",
      "metadata": {
        "colab": {
          "base_uri": "https://localhost:8080/"
        },
        "id": "b2ExkCjw1F1f",
        "outputId": "8797ce9f-d4a7-4317-a9ce-50841f50b470"
      },
      "source": [
        "i = 0\n",
        "while i < 5:\n",
        "  print(i)\n",
        "  i += 1\n"
      ],
      "execution_count": null,
      "outputs": [
        {
          "output_type": "stream",
          "text": [
            "0\n",
            "1\n",
            "2\n",
            "3\n",
            "4\n"
          ],
          "name": "stdout"
        }
      ]
    },
    {
      "cell_type": "code",
      "metadata": {
        "colab": {
          "base_uri": "https://localhost:8080/"
        },
        "id": "yzLewcC22_6i",
        "outputId": "66321009-a795-4cca-b203-9944c69b7b03"
      },
      "source": [
        "a, b, c = [1, 2, 3]\n",
        "print(a)\n",
        "print(b)\n",
        "print(c)"
      ],
      "execution_count": null,
      "outputs": [
        {
          "output_type": "stream",
          "text": [
            "1\n",
            "2\n",
            "3\n"
          ],
          "name": "stdout"
        }
      ]
    },
    {
      "cell_type": "code",
      "metadata": {
        "colab": {
          "base_uri": "https://localhost:8080/"
        },
        "id": "8CG40DsJ3Ob2",
        "outputId": "f31a8324-3fbe-40a0-e7aa-ef2294db06a3"
      },
      "source": [
        "fruits = {'mango':40, 'banana':10, 'cherry':20}\n",
        "\n",
        "for fruit, quantity in fruits.items():\n",
        "    print(\"You have {} {}.\".format(quantity, fruit))\n",
        "\n"
      ],
      "execution_count": null,
      "outputs": [
        {
          "output_type": "stream",
          "text": [
            "You have 40 mango.\n",
            "You have 10 banana.\n",
            "You have 20 cherry.\n"
          ],
          "name": "stdout"
        }
      ]
    },
    {
      "cell_type": "markdown",
      "metadata": {
        "id": "LST5DG2gycNi"
      },
      "source": [
        "## Parsen mit JSON"
      ]
    },
    {
      "cell_type": "code",
      "metadata": {
        "colab": {
          "base_uri": "https://localhost:8080/"
        },
        "id": "QIA3PEzUyjRQ",
        "outputId": "16fcaa3d-b6ff-4465-cebc-f388ad86c1e2"
      },
      "source": [
        "#!/usr/bin/env python\n",
        "import json\n",
        "import os\n",
        "from pprint import pprint\n",
        "\n",
        "with open('interfaces.json', 'r') as file:\n",
        "    # TODO: Parse the contents of the JSON file into a variable\n",
        "    json_data = json.loads(file.read())\n",
        "\n",
        "\n",
        "pprint(json_data, indent=4)\n",
        "\n",
        "# TODO: Loop through the interfaces in the JSON data and print out each\n",
        "# interface's name, ip, and netmask.\n",
        "for interface in json_data[\"ietf-interfaces:interfaces\"][\"interface\"]:\n",
        "    print(\"{name}: {ip} {netmask}\".format(\n",
        "        name=interface[\"name\"],\n",
        "        ip=interface[\"ietf-ip:ipv4\"][\"address\"][0][\"ip\"],\n",
        "        netmask=interface[\"ietf-ip:ipv4\"][\"address\"][0][\"netmask\"],\n",
        "    ))"
      ],
      "execution_count": null,
      "outputs": [
        {
          "output_type": "stream",
          "text": [
            "{   'ietf-interfaces:interfaces': {   'interface': [   {   'enabled': True,\n",
            "                                                           'ietf-ip:ipv4': {   'address': [   {   'ip': '198.18.134.11',\n",
            "                                                                                                  'netmask': '255.255.192.0'}]},\n",
            "                                                           'ietf-ip:ipv6': {},\n",
            "                                                           'name': 'GigabitEthernet1',\n",
            "                                                           'type': 'iana-if-type:ethernetCsmacd'},\n",
            "                                                       {   'enabled': True,\n",
            "                                                           'ietf-ip:ipv4': {   'address': [   {   'ip': '172.16.255.1',\n",
            "                                                                                                  'netmask': '255.255.255.0'}]},\n",
            "                                                           'ietf-ip:ipv6': {},\n",
            "                                                           'name': 'GigabitEthernet2',\n",
            "                                                           'type': 'iana-if-type:ethernetCsmacd'},\n",
            "                                                       {   'description': 'loop '\n",
            "                                                                          '0',\n",
            "                                                           'enabled': True,\n",
            "                                                           'ietf-ip:ipv4': {   'address': [   {   'ip': '10.0.0.1',\n",
            "                                                                                                  'netmask': '255.255.255.255'}]},\n",
            "                                                           'ietf-ip:ipv6': {},\n",
            "                                                           'name': 'Loopback0',\n",
            "                                                           'type': 'iana-if-type:softwareLoopback'}]}}\n",
            "GigabitEthernet1: 198.18.134.11 255.255.192.0\n",
            "GigabitEthernet2: 172.16.255.1 255.255.255.0\n",
            "Loopback0: 10.0.0.1 255.255.255.255\n"
          ],
          "name": "stdout"
        }
      ]
    },
    {
      "cell_type": "markdown",
      "metadata": {
        "id": "gQ-NFfYetBVo"
      },
      "source": [
        "**Gültikeitsbereich von Variabeln**: "
      ]
    },
    {
      "cell_type": "code",
      "metadata": {
        "colab": {
          "base_uri": "https://localhost:8080/"
        },
        "id": "urzs8P_4siTW",
        "outputId": "fbf9cfc9-52ab-4b94-9bef-60ac785028e4"
      },
      "source": [
        "#!/usr/bin/env python\n",
        "\n",
        "# Create a module variable\n",
        "module_variable = \"I am a module variable.\"\n",
        "\n",
        "# Define a function that expects to receive a value for an argument variable\n",
        "def my_function(argument_variable):\n",
        "    \"\"\"Showing how module, argument, and local variables are used.\"\"\"\n",
        "    # Create a local variable\n",
        "    local_variable=\"I am a local variable.\"\n",
        "\u000b    print(module_variable, \"...and I can be accessed inside a function.\")\n",
        "    print(argument_variable, \"...and I can be passed to a function.\")\n",
        "    print(local_variable, \"...and I can ONLY be accessed inside a function.\")\n",
        "\n",
        "my_function(argument_variable=\"I am a argument variable.\")\n",
        "\n",
        "# Let's try accessing that local variable here at module scope\n",
        "print(\"\\nTrying to access local_variable outside of its function...\")\n",
        "try:\n",
        "    print(local_variable)\n",
        "except NameError as error:\n",
        "    print(error)\n"
      ],
      "execution_count": null,
      "outputs": [
        {
          "output_type": "stream",
          "text": [
            "I am a module variable. ...and I can be accessed inside a function.\n",
            "I am a argument variable. ...and I can be passed to a function.\n",
            "I am a local variable. ...and I can ONLY be accessed inside a function.\n",
            "\n",
            "Trying to access local_variable outside of its function...\n",
            "name 'local_variable' is not defined\n"
          ],
          "name": "stdout"
        }
      ]
    }
  ]
}