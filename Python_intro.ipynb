{
  "nbformat": 4,
  "nbformat_minor": 0,
  "metadata": {
    "colab": {
      "name": "Python_intro.ipynb",
      "provenance": [],
      "collapsed_sections": [],
      "toc_visible": true,
      "include_colab_link": true
    },
    "kernelspec": {
      "name": "python3",
      "display_name": "Python 3"
    },
    "language_info": {
      "name": "python"
    }
  },
  "cells": [
    {
      "cell_type": "markdown",
      "metadata": {
        "id": "view-in-github",
        "colab_type": "text"
      },
      "source": [
        "<a href=\"https://colab.research.google.com/github/asummera/python_einfuehrung/blob/master/Python_intro.ipynb\" target=\"_parent\"><img src=\"https://colab.research.google.com/assets/colab-badge.svg\" alt=\"Open In Colab\"/></a>"
      ]
    },
    {
      "cell_type": "markdown",
      "metadata": {
        "id": "AgK9R9XFEYHL"
      },
      "source": [
        "# Python Einführung - Teil 1"
      ]
    },
    {
      "cell_type": "markdown",
      "metadata": {
        "id": "dQPym64fCqg2"
      },
      "source": [
        "## **Variablen**\n",
        "\n",
        "Variablen sind Container zum Speichern von Datenwerten.\n",
        "\n",
        "\n",
        "\n",
        "\n",
        "**Erstellen von Variablen**\n",
        "\n",
        "Python hat keinen Befehl zum Deklarieren einer Variable.\n",
        "\n",
        "Eine Variable wird in dem Moment erzeugt, in dem Sie ihr zum ersten Mal einen Wert zuweisen.\n",
        "\n"
      ]
    },
    {
      "cell_type": "code",
      "metadata": {
        "id": "9WQDIFfvDtmu"
      },
      "source": [
        "x = 5\n",
        "y = \"John\"\n",
        "print(x)\n",
        "print(y)"
      ],
      "execution_count": null,
      "outputs": []
    },
    {
      "cell_type": "markdown",
      "metadata": {
        "id": "9MouRHqlD2l2"
      },
      "source": [
        "Variablen müssen nicht mit einem bestimmten Typ deklariert werden und können sogar ihren Typ ändern, nachdem sie gesetzt wurden."
      ]
    },
    {
      "cell_type": "code",
      "metadata": {
        "id": "NCLIJ6YOD_oT"
      },
      "source": [
        "x = 4       # x ist vom Datentyp int\n",
        "x = \"Sally\" # x ist vom Datentyp String\n",
        "print(x)"
      ],
      "execution_count": null,
      "outputs": []
    },
    {
      "cell_type": "markdown",
      "metadata": {
        "id": "RCKEu2WEEENk"
      },
      "source": [
        "**Den Typ ermitteln**\n",
        "\n",
        "Sie können den Datentyp einer Variablen mit der Funktion type() ermitteln."
      ]
    },
    {
      "cell_type": "code",
      "metadata": {
        "id": "ylB2dJQOEPZf"
      },
      "source": [
        "x = 5\n",
        "y = \"John\"\n",
        "print(type(x))\n",
        "print(type(y))"
      ],
      "execution_count": null,
      "outputs": []
    },
    {
      "cell_type": "markdown",
      "metadata": {
        "id": "TD8mVtgPEdz1"
      },
      "source": [
        "**Einfache oder doppelte Anführungszeichen?**\n",
        "\n",
        "String-Variablen können entweder mit einfachen oder mit doppelten Anführungszeichen deklariert werden:"
      ]
    },
    {
      "cell_type": "code",
      "metadata": {
        "id": "V0yTTdrmErne"
      },
      "source": [
        "x = \"John\"\n",
        "# ist dasselbe wie\n",
        "x = 'John'"
      ],
      "execution_count": null,
      "outputs": []
    },
    {
      "cell_type": "markdown",
      "metadata": {
        "id": "Xcue620gFIvr"
      },
      "source": [
        "**Groß- und Kleinschreibung beachten**\n",
        "\n",
        "Bei Variablennamen wird zwischen Groß- und Kleinschreibung unterschieden."
      ]
    },
    {
      "cell_type": "code",
      "metadata": {
        "id": "H36ONzOmFIPx"
      },
      "source": [
        "a = 4\n",
        "A = \"Sally\"\n",
        "#A wird nicht a überschreiben"
      ],
      "execution_count": null,
      "outputs": []
    },
    {
      "cell_type": "markdown",
      "metadata": {
        "id": "fqoE6_odFyTZ"
      },
      "source": [
        "Python erlaubt es Ihnen, mehreren Variablen in einer Zeile Werte zuzuweisen:"
      ]
    },
    {
      "cell_type": "code",
      "metadata": {
        "id": "tXfQAU2UFzbH"
      },
      "source": [
        "x, y, z = \"Orange\", \"Banana\", \"Cherry\"\n",
        "print(x)\n",
        "print(y)\n",
        "print(z)"
      ],
      "execution_count": null,
      "outputs": []
    },
    {
      "cell_type": "markdown",
      "metadata": {
        "id": "i9n2DoVgF_TZ"
      },
      "source": [
        "Und Sie können in einer Zeile mehreren Variablen den gleichen Wert zuweisen:"
      ]
    },
    {
      "cell_type": "code",
      "metadata": {
        "id": "Lla3TpT_GAmS"
      },
      "source": [
        "x = y = z = \"Orange\"\n",
        "print(x)\n",
        "print(y)\n",
        "print(z)"
      ],
      "execution_count": null,
      "outputs": []
    },
    {
      "cell_type": "markdown",
      "metadata": {
        "id": "602SdOoQGGZK"
      },
      "source": [
        "**Variablen ausgeben**\n",
        "\n",
        "Die Python-Anweisung print wird häufig zur Ausgabe von Variablen verwendet.\n",
        "\n",
        "Um sowohl Text als auch eine Variable zu kombinieren, verwendet Python das Zeichen +:"
      ]
    },
    {
      "cell_type": "code",
      "metadata": {
        "id": "XNd3N6qTGVou"
      },
      "source": [
        "x = \"awesome\"\n",
        "print(\"Python is \" + x)"
      ],
      "execution_count": null,
      "outputs": []
    },
    {
      "cell_type": "markdown",
      "metadata": {
        "id": "liRwJhc0GYwi"
      },
      "source": [
        "For numbers, the + character works as a mathematical operator:"
      ]
    },
    {
      "cell_type": "code",
      "metadata": {
        "id": "0rRr6M9xGhx7"
      },
      "source": [
        "x = 5\n",
        "y = 10\n",
        "print(x + y)"
      ],
      "execution_count": null,
      "outputs": []
    },
    {
      "cell_type": "markdown",
      "metadata": {
        "id": "m6EARhA8GoPl"
      },
      "source": [
        "If you try to combine a string and a number, Python will give you an error:\n",
        "\n"
      ]
    },
    {
      "cell_type": "code",
      "metadata": {
        "id": "3mtJ78i6G3lZ"
      },
      "source": [
        "x = 5\n",
        "y = \"John\"\n",
        "print(x + y)"
      ],
      "execution_count": null,
      "outputs": []
    },
    {
      "cell_type": "markdown",
      "metadata": {
        "id": "O1vMf5xoHME6"
      },
      "source": [
        "## Python Datentypen\n",
        "\n",
        "**Eingebaute Datentypen**\n",
        "\n",
        "In der Programmierung ist der Datentyp ein wichtiges Konzept.\n",
        "\n",
        "Variablen können Daten verschiedener Typen speichern."
      ]
    },
    {
      "cell_type": "markdown",
      "metadata": {
        "id": "WDd-7u-WHiZp"
      },
      "source": [
        "\n",
        "\n",
        "*   **Text Type:**\tstr\n",
        "*   **Numeric Types:**\tint, float, complex\n",
        "*   **Boolean Type:**\tbool\n",
        "*   **Binary Types:**\tbytes, bytearray, memoryview\n",
        "\n",
        "\n",
        "\n",
        "\n",
        "\n",
        "\n"
      ]
    },
    {
      "cell_type": "markdown",
      "metadata": {
        "id": "XO7bFw9pIN5g"
      },
      "source": [
        "**Den Datentyp ermitteln**\n",
        "\n",
        "Sie können den Datentyp eines beliebigen Objekts mit der Funktion type() ermitteln:"
      ]
    },
    {
      "cell_type": "code",
      "metadata": {
        "id": "3VDeLQ7QIRKj"
      },
      "source": [
        "x = 5\n",
        "print(type(x))"
      ],
      "execution_count": null,
      "outputs": []
    },
    {
      "cell_type": "markdown",
      "metadata": {
        "id": "TOWsmR5uIVAh"
      },
      "source": [
        "**Einstellen des Datentyps**\n",
        "\n",
        "In Python wird der Datentyp festgelegt, wenn Sie einer Variablen einen Wert zuweisen:"
      ]
    },
    {
      "cell_type": "code",
      "metadata": {
        "id": "r6Jl0HP_IUlb"
      },
      "source": [
        "x = \"Hello World\"\n",
        "y = 20\n",
        "z = True\n",
        "print(type(x))\n",
        "print(type(y))\n",
        "print(type(z))"
      ],
      "execution_count": null,
      "outputs": []
    },
    {
      "cell_type": "markdown",
      "metadata": {
        "id": "TOfMVKJ2JAXo"
      },
      "source": [
        "**Python Numbers**\n",
        "\n",
        "There are three numeric types in Python:\n",
        "\n",
        "\n",
        "1.   int\n",
        "2.   float\n",
        "3. complex\n",
        "\n",
        "Variablen von numerischen Typen werden erstellt, wenn Sie ihnen einen Wert zuweisen:\n",
        "\n"
      ]
    },
    {
      "cell_type": "code",
      "metadata": {
        "id": "lGU3fw7nJUra"
      },
      "source": [
        "x = 1    # int\n",
        "y = 2.8  # float\n",
        "z = 1j   # complex"
      ],
      "execution_count": null,
      "outputs": []
    },
    {
      "cell_type": "markdown",
      "metadata": {
        "id": "rV8OUgMPJdmC"
      },
      "source": [
        "**Int**\n",
        "\n",
        "Int, oder Integer, ist eine ganze Zahl, positiv oder negativ, ohne Nachkommastellen, von unbegrenzter Länge."
      ]
    },
    {
      "cell_type": "code",
      "metadata": {
        "id": "pI-M5Cd5Jome"
      },
      "source": [
        "x = 13\n",
        "y = 23656222554887711\n",
        "z = -57255522\n",
        "\n",
        "print(type(x))\n",
        "print(type(y))\n",
        "print(type(z))"
      ],
      "execution_count": null,
      "outputs": []
    },
    {
      "cell_type": "markdown",
      "metadata": {
        "id": "2NPh1OfuJ0L6"
      },
      "source": [
        "**Float**\n",
        "\n",
        "Float oder \"Gleitkommazahl\" ist eine Zahl, positiv oder negativ, die eine oder mehrere Dezimalstellen enthält."
      ]
    },
    {
      "cell_type": "code",
      "metadata": {
        "id": "nBIBk7Y6J3fb"
      },
      "source": [
        "x = 3.40\n",
        "y = 4.0\n",
        "z = -46.59\n",
        "\n",
        "print(type(x))\n",
        "print(type(y))\n",
        "print(type(z))"
      ],
      "execution_count": null,
      "outputs": []
    },
    {
      "cell_type": "markdown",
      "metadata": {
        "id": "G9Vk4_MwU3hb"
      },
      "source": [
        "**Strings**\n",
        "\n",
        "Strings in Python sind entweder von einfachen Anführungszeichen oder von doppelten Anführungszeichen umgeben.\n",
        "\n",
        "'hallo' ist dasselbe wie \"hallo\".\n",
        "\n",
        "Sie können ein String-Literal mit der Funktion print() ausgeben:"
      ]
    },
    {
      "cell_type": "code",
      "metadata": {
        "id": "cfS5WMdZVBwB"
      },
      "source": [
        "print(\"Hello\")\n",
        "print('Hello')"
      ],
      "execution_count": null,
      "outputs": []
    },
    {
      "cell_type": "markdown",
      "metadata": {
        "id": "hOLwuxmOVKar"
      },
      "source": [
        "**Mehrzeilige Strings**\n",
        "\n",
        "Sie können einer Variablen eine mehrzeiligen String zuweisen, indem Sie drei Anführungszeichen verwenden:"
      ]
    },
    {
      "cell_type": "code",
      "metadata": {
        "id": "X3QQscc4VdLs"
      },
      "source": [
        "a = \"\"\"Kuchen ist so lecker,\n",
        "es sollte jeden Tag Kuchen geben,\n",
        "am Besten mit Schoko und Erdbeeren\"\"\"\n",
        "\n",
        "print(a)"
      ],
      "execution_count": null,
      "outputs": []
    },
    {
      "cell_type": "markdown",
      "metadata": {
        "id": "rEv214pJV0cF"
      },
      "source": [
        "Wir können mit Hilfe der Methode format() Strings und Zahlen kombinieren!\n",
        "\n",
        "Die Methode format() nimmt die übergebenen Argumente, formatiert sie und platziert sie im String an der Stelle, an der sich die Platzhalter {} befinden:"
      ]
    },
    {
      "cell_type": "code",
      "metadata": {
        "id": "dH0HQbflWUc0"
      },
      "source": [
        "age = 36\n",
        "txt = \"My name is John, and I am {}\"\n",
        "print(txt.format(age))"
      ],
      "execution_count": null,
      "outputs": []
    },
    {
      "cell_type": "markdown",
      "metadata": {
        "id": "-Ev4Ra8sWXo_"
      },
      "source": [
        "## Python If ... Else\n",
        "\n",
        "**Python-Bedingungen und If-Anweisungen**\n",
        "\n",
        "Python unterstützt die üblichen logischen Bedingungen aus der Mathematik:\n",
        "\n",
        "*   **Gleich:** a == b\n",
        "*   **Nicht Gleich:** a != b\n",
        "*   **Kleiner als:** a < b\n",
        "*   **Kleiner gleich:** a <= b\n",
        "*   **Größer als:** a > b\n",
        "*   **Größer gleich:** a >= b\n",
        "\n",
        "Diese Bedingungen können auf verschiedene Weise verwendet werden, am häufigsten in \"if-Anweisungen\".\n",
        "\n",
        "Eine \"if-Anweisung\" wird mit dem Schlüsselwort **if** geschrieben.\n",
        "\n",
        "\n",
        "\n",
        "\n",
        "\n",
        "\n",
        "\n",
        "\n",
        "\n",
        "\n",
        "\n"
      ]
    },
    {
      "cell_type": "code",
      "metadata": {
        "id": "WUQjzvSoX9jF"
      },
      "source": [
        "x = 33\n",
        "y = 200\n",
        "if y > x:\n",
        "  print(\"y is größer als x\")"
      ],
      "execution_count": null,
      "outputs": []
    },
    {
      "cell_type": "markdown",
      "metadata": {
        "id": "bqr4xjXnZKHr"
      },
      "source": [
        "**Else**\n",
        "\n",
        "Das Else-Schlüsselwort fängt alles ab, was nicht von den vorangegangenen Bedingungen abgefangen wird."
      ]
    },
    {
      "cell_type": "code",
      "metadata": {
        "id": "x_0Oeo0vZQFV"
      },
      "source": [
        "x = 200\n",
        "y = 33\n",
        "if y > x:\n",
        "  print(\"y ist größer als x\")\n",
        "elif x == y:\n",
        "  print(\"x und y sind gleich\")\n",
        "else:\n",
        "  print(\"x ist größer als y\")"
      ],
      "execution_count": null,
      "outputs": []
    },
    {
      "cell_type": "markdown",
      "metadata": {
        "id": "kMuDE_piyWQm"
      },
      "source": [
        "# Python Einführung - Teil 1"
      ]
    },
    {
      "cell_type": "markdown",
      "metadata": {
        "id": "37a7RjeGzuTR"
      },
      "source": [
        "## Verschiedene Python Datenstrukturen\n"
      ]
    },
    {
      "cell_type": "markdown",
      "metadata": {
        "id": "_4keVz6vGUYX"
      },
      "source": [
        "### Liste\n",
        "\n",
        "Eine Liste in Python besteht aus einer geordneten Menge von Elementen. Sie unterschiedliche Datentypen enthalten. "
      ]
    },
    {
      "cell_type": "code",
      "metadata": {
        "colab": {
          "base_uri": "https://localhost:8080/"
        },
        "id": "cs3dg83Czw5M",
        "outputId": "5f56645b-fd55-4522-d518-30e3639e5749"
      },
      "source": [
        "# Erstellen einer Liste\n",
        "l = ['a', 1, 18.2, [1,2,3], True]\n",
        "print(l)\n",
        "print('\\n')\n",
        "\n",
        "# Einzelne Elmente einer Liste referenzieren\n",
        "i = 0\n",
        "print('Element an Indexstelle ' + str(i) + ': ' + l[i])  # Gibt das Element an Stelle (beginnt mit 0) \n",
        "\n",
        "# Überschreiben von einzelnen Elementen\n",
        "i = 1\n",
        "l[i] = 5           # Überscheibt den Wert an Stelle 1 \n",
        "print('Element an Indexstelle ' + str(1) + ': ' + str(l[1]))\n",
        "\n",
        "print('\\n')\n",
        "\n",
        "# Verwenden von Listen-Methoden\n",
        "l.append('Hallo') # Hängt am Ende der Liste ein Element an\n",
        "print(l)\n",
        "l.pop()           # Nimmt das letzte Element von der Liste weg\n",
        "print(l)\n",
        "\n"
      ],
      "execution_count": null,
      "outputs": [
        {
          "output_type": "stream",
          "text": [
            "['a', 1, 18.2, [1, 2, 3], True]\n",
            "\n",
            "\n",
            "Element an Indexstelle 0: a\n",
            "Element an Indexstelle 1: 5\n",
            "\n",
            "\n",
            "['a', 5, 18.2, [1, 2, 3], True, 'Hallo']\n",
            "['a', 5, 18.2, [1, 2, 3], True]\n"
          ],
          "name": "stdout"
        }
      ]
    },
    {
      "cell_type": "markdown",
      "metadata": {
        "id": "ZeCVxo9PbMRW"
      },
      "source": [
        "### Tupel\n",
        "\n",
        "Tupel sind ähnlich zu Listen, mit dem Wesentlichen Unterschied, dass man sie nicht verändern kann. Sobald ein Tupel erstellt wurde, können die Elemente nicht überschrieben werden oder Elemente können nicht hinzugefügt / entfernt werden.\n"
      ]
    },
    {
      "cell_type": "code",
      "metadata": {
        "colab": {
          "base_uri": "https://localhost:8080/"
        },
        "id": "iwoMW-DjbCrO",
        "outputId": "a4c4fe27-4192-4ce1-a9d7-ad9aab5110f1"
      },
      "source": [
        "# Erstellen eines Tupels\n",
        "t = ('a', 1, 18.2)\n",
        "\n",
        "i = 0\n",
        "print('Element an Indexstelle ' + str(i) + ': ' + l[i])  \n",
        "print(t)"
      ],
      "execution_count": null,
      "outputs": [
        {
          "output_type": "stream",
          "text": [
            "Element an Indexstelle 0: a\n",
            "('a', 1, 18.2)\n"
          ],
          "name": "stdout"
        }
      ]
    },
    {
      "cell_type": "markdown",
      "metadata": {
        "id": "_Va0O_kpbOEt"
      },
      "source": [
        "### Dictionary\n",
        "\n",
        "Dictionaries bestehen aus einer ungeordneten Listen von Schlüssel-Objekt Paar (Key-Value).\n",
        "> Der 'Key' kann dabei unterschiedliche Werte annehmen, muss aber ein unveränderlicher (immutable) Datentype sein. D.h., es kann zB. ein String, ein Integer etc. sein aber es können keine Listen als 'Keys' verwedet werden.\n",
        "\n",
        "> Der 'Value' kann hingegen beliebige Typen als Werte haben.\n"
      ]
    },
    {
      "cell_type": "code",
      "metadata": {
        "id": "I8DZUDnrbEEv",
        "colab": {
          "base_uri": "https://localhost:8080/"
        },
        "outputId": "0069abeb-7c97-4bf7-a517-15a6fd7b8112"
      },
      "source": [
        "# Erstellen eines Dictionarys\n",
        "d = {\"a\": 1, \"b\": 2, \"c\": 3, \"d\": 4}\n",
        "print(d)\n",
        "\n",
        "print('\\n')\n",
        "\n",
        "# Auf ein einzlenes Dictionary Element zugreifen\n",
        "key = \"a\"\n",
        "print('Alter Value vom key ' + key + ': ' + str(d[key]))    # Gibt den Wert für den key 'a' \n",
        "d[key] = [1, 2, 3]                                          # Überschreibt den Wert vom Value, dessen key 'a' ist\n",
        "print('Neuer Value vom key ' + key + ': ' + str(d[key]))\n",
        "\n",
        "print('\\n')\n",
        "\n",
        "# Verwenden von Dictionary Methoden:\n",
        "print(d.items())  # Gibt die Key-Values als Tupel-Paare Zurück\n",
        "print(d.keys())   # Gibt alle die Keys zurück\n",
        "print(d.values()) # Gibt alle die Values zurück"
      ],
      "execution_count": null,
      "outputs": [
        {
          "output_type": "stream",
          "text": [
            "{'a': 1, 'b': 2, 'c': 3, 'd': 4}\n",
            "\n",
            "\n",
            "Alter Value vom key a: 1\n",
            "Neuer Value vom key a: [1, 2, 3]\n",
            "\n",
            "\n",
            "dict_items([('a', [1, 2, 3]), ('b', 2), ('c', 3), ('d', 4)])\n",
            "dict_keys(['a', 'b', 'c', 'd'])\n",
            "dict_values([[1, 2, 3], 2, 3, 4])\n"
          ],
          "name": "stdout"
        }
      ]
    },
    {
      "cell_type": "markdown",
      "metadata": {
        "id": "yloZ94z1q7lK"
      },
      "source": [
        "### OrderedDict Collection\n",
        "\n",
        "OrederedDic ist eine Unterklasse der Dictionaries. Der einzige Unterschied zwischen Dictionaries und OrderedDict ist, dass OrderedDict die Reihenfolge speichert, in der die Elemente hinzugefügt worden sind."
      ]
    },
    {
      "cell_type": "code",
      "metadata": {
        "colab": {
          "base_uri": "https://localhost:8080/"
        },
        "id": "ZAcrbNpKz_4q",
        "outputId": "6a1eef6b-1c83-43df-8151-09bf68a98162"
      },
      "source": [
        "from collections import OrderedDict\n",
        "\n",
        "od = OrderedDict([(\"apples\", 5), (\"pears\", 2), (\"oranges\", 9)]) # Erstellen eines OrderedDict Objekts\n",
        "print(od)\n",
        "\n",
        "od[\"bananas\"] = 12 # Fügt ein key-value Paar am Ende des Dict an\n",
        "print(od)\n",
        "\n",
        "print(od.values())\n"
      ],
      "execution_count": null,
      "outputs": [
        {
          "output_type": "stream",
          "text": [
            "OrderedDict([('apples', 5), ('pears', 2), ('oranges', 9)])\n",
            "OrderedDict([('apples', 5), ('pears', 2), ('oranges', 9), ('bananas', 12)])\n",
            "odict_values([5, 2, 9, 12])\n"
          ],
          "name": "stdout"
        }
      ]
    },
    {
      "cell_type": "markdown",
      "metadata": {
        "id": "7Clf6IOb0KsJ"
      },
      "source": [
        "## Loops"
      ]
    },
    {
      "cell_type": "markdown",
      "metadata": {
        "id": "0Mvp56t2DtE6"
      },
      "source": [
        "### For-Loop\n",
        "\n",
        "In einem For-Loop wird über jedes Element von einem Objekt iteriert. In diesem Beispiel wird über jedes Element der Liste mit Namen 'names' itieriert und in jeder Iteration wird das Element herausgeschrieben."
      ]
    },
    {
      "cell_type": "code",
      "metadata": {
        "colab": {
          "base_uri": "https://localhost:8080/"
        },
        "id": "gi9Hy6Qy0oEr",
        "outputId": "a97d184e-b396-43ae-f7c4-985a387501d7"
      },
      "source": [
        "# Initialisieren einer Liste mit Strings\n",
        "names = [\"chris\", \"iftach\", \"jay\"]\n",
        "\n",
        "for name in names:\n",
        "  print(name)"
      ],
      "execution_count": null,
      "outputs": [
        {
          "output_type": "stream",
          "text": [
            "chris\n",
            "iftach\n",
            "jay\n"
          ],
          "name": "stdout"
        }
      ]
    },
    {
      "cell_type": "markdown",
      "metadata": {
        "id": "EYsGL2Wjx4zI"
      },
      "source": [
        "For-Loops können auch über Dicitonaries ausgeführt werden."
      ]
    },
    {
      "cell_type": "code",
      "metadata": {
        "colab": {
          "base_uri": "https://localhost:8080/"
        },
        "id": "q166Sz3sx8Up",
        "outputId": "f8308a86-e35f-4181-f480-b593caf20bd4"
      },
      "source": [
        "fruits = {'mango':40, 'banana':10, 'cherry':20} # Erstellen eines Dictionaries\n",
        "\n",
        "for fruit, quantity in fruits.items():\n",
        "    print(\"You have {} {}.\".format(quantity, fruit))\n",
        "\n"
      ],
      "execution_count": null,
      "outputs": [
        {
          "output_type": "stream",
          "text": [
            "You have 40 mango.\n",
            "You have 10 banana.\n",
            "You have 20 cherry.\n"
          ],
          "name": "stdout"
        }
      ]
    },
    {
      "cell_type": "markdown",
      "metadata": {
        "id": "U7k_phG3Dmao"
      },
      "source": [
        "### While-Loop\n",
        "\n",
        "In einem While-Loop wird zuerst eine Bedingung geprüft. Wenn diese wahr ist, wird der Schleifenkörper ausgeführt. Wenn alle Zeilen bis zum Ende der Schleife ausgeführt sind, springt es direkt nach oben und prüft die Bedingung erneut. Dies wird so oft wiederholt, bis die Bedingung nicht mehr erfüllt wird. In diesem Beispiel, wird der Loop so oft wiederholt, bis der Wert $i=5$ ist und somit die Bedingung $i<5$ nicht mehr erfüllt ist.\n",
        "\n"
      ]
    },
    {
      "cell_type": "code",
      "metadata": {
        "colab": {
          "base_uri": "https://localhost:8080/"
        },
        "id": "b2ExkCjw1F1f",
        "outputId": "8797ce9f-d4a7-4317-a9ce-50841f50b470"
      },
      "source": [
        "i = 0\n",
        "while i < 5: \n",
        "  print(i)\n",
        "  i += 1\n"
      ],
      "execution_count": null,
      "outputs": [
        {
          "output_type": "stream",
          "text": [
            "0\n",
            "1\n",
            "2\n",
            "3\n",
            "4\n"
          ],
          "name": "stdout"
        }
      ]
    },
    {
      "cell_type": "markdown",
      "metadata": {
        "id": "LST5DG2gycNi"
      },
      "source": [
        "# Aufgabe: Parsen mit JSON"
      ]
    },
    {
      "cell_type": "code",
      "metadata": {
        "colab": {
          "base_uri": "https://localhost:8080/"
        },
        "id": "QIA3PEzUyjRQ",
        "outputId": "b84ad400-36b0-41ad-c447-0388919e7d7c"
      },
      "source": [
        "#!/usr/bin/env python\n",
        "\n",
        "# Importieren der benötigten Modulen\n",
        "import json\n",
        "import os\n",
        "from pprint import pprint\n",
        "\n",
        "# Öffnen eines JSON files\n",
        "with open('interfaces.json', 'r') as file:\n",
        "    json_data = json.loads(file.read()) # Diese Methode wandelt ein JSON text in Python-Format um\n",
        "\n",
        "print('Type: ' + str(type(json_data)))\n",
        "pprint(json_data, indent=4)\n",
        "\n",
        "# TODO: loope durch die interfaces in json_data und gib für jedes interface den Namen (name), IP addresse (ip) und das IP Subnetz (mask) an. \n",
        "\n"
      ],
      "execution_count": null,
      "outputs": [
        {
          "output_type": "stream",
          "text": [
            "Type: <class 'dict'>\n",
            "{   'ietf-interfaces:interfaces': {   'interface': [   {   'enabled': True,\n",
            "                                                           'ietf-ip:ipv4': {   'address': [   {   'ip': '198.18.134.11',\n",
            "                                                                                                  'netmask': '255.255.192.0'}]},\n",
            "                                                           'ietf-ip:ipv6': {},\n",
            "                                                           'name': 'GigabitEthernet1',\n",
            "                                                           'type': 'iana-if-type:ethernetCsmacd'},\n",
            "                                                       {   'enabled': True,\n",
            "                                                           'ietf-ip:ipv4': {   'address': [   {   'ip': '172.16.255.1',\n",
            "                                                                                                  'netmask': '255.255.255.0'}]},\n",
            "                                                           'ietf-ip:ipv6': {},\n",
            "                                                           'name': 'GigabitEthernet2',\n",
            "                                                           'type': 'iana-if-type:ethernetCsmacd'},\n",
            "                                                       {   'description': 'loop '\n",
            "                                                                          '0',\n",
            "                                                           'enabled': True,\n",
            "                                                           'ietf-ip:ipv4': {   'address': [   {   'ip': '10.0.0.1',\n",
            "                                                                                                  'netmask': '255.255.255.255'}]},\n",
            "                                                           'ietf-ip:ipv6': {},\n",
            "                                                           'name': 'Loopback0',\n",
            "                                                           'type': 'iana-if-type:softwareLoopback'}]}}\n"
          ],
          "name": "stdout"
        }
      ]
    }
  ]
}